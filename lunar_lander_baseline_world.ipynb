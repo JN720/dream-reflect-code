{
 "cells": [
  {
   "cell_type": "code",
   "execution_count": 1,
   "metadata": {},
   "outputs": [],
   "source": [
    "from stable_baselines3 import PPO, TD3\n",
    "from gymnasium.envs.box2d.lunar_lander import LunarLander\n",
    "from stable_baselines3.common.env_checker import check_env\n",
    "from stable_baselines3.common.env_util import DummyVecEnv\n",
    "from dotenv import load_dotenv\n",
    "import torch\n",
    "import torch.nn as nn\n",
    "import torch.optim as optim\n",
    "from torch.utils.data import DataLoader, Dataset\n",
    "from sklearn.model_selection import train_test_split\n",
    "from tqdm import tqdm\n",
    "import matplotlib.pyplot as plt\n",
    "import os\n",
    "import cv2\n",
    "import numpy as np\n",
    "load_dotenv()\n",
    "\n",
    "SEED = 42"
   ]
  },
  {
   "cell_type": "code",
   "execution_count": 2,
   "metadata": {},
   "outputs": [],
   "source": [
    "data = []"
   ]
  },
  {
   "cell_type": "code",
   "execution_count": 3,
   "metadata": {},
   "outputs": [],
   "source": [
    "class LunarLanderCollector(LunarLander):\n",
    "    def __init__(self, *args, **kwargs):\n",
    "        super(LunarLanderCollector, self).__init__(*args, **kwargs)\n",
    "        self.collector_state = None\n",
    "\n",
    "    def step(self, action):\n",
    "        next_state, reward, terminated, truncated, info = super(LunarLanderCollector, self).step(action)\n",
    "        if self.collector_state is not None:\n",
    "            data.append((self.collector_state, next_state, action, reward, terminated, truncated, info))\n",
    "        self.collector_state = next_state\n",
    "        return next_state, reward, terminated, truncated, info\n",
    "\n",
    "def generate_env():\n",
    "    return LunarLanderCollector(render_mode='rgb_array')\n",
    "\n",
    "check_env(generate_env())"
   ]
  },
  {
   "cell_type": "code",
   "execution_count": null,
   "metadata": {},
   "outputs": [],
   "source": [
    "env = DummyVecEnv([generate_env] * 4)\n",
    "ppo_model = PPO(\"MlpPolicy\", env)\n"
   ]
  },
  {
   "cell_type": "code",
   "execution_count": 5,
   "metadata": {},
   "outputs": [],
   "source": [
    "ppo_model.learn(total_timesteps=100)\n",
    "ppo_model.save(\"lunar_lander_ppo\")"
   ]
  },
  {
   "cell_type": "code",
   "execution_count": 6,
   "metadata": {},
   "outputs": [],
   "source": [
    "class GymEnvDataset(Dataset):\n",
    "    def __init__(self, data):\n",
    "        self.data = data\n",
    "\n",
    "    def __len__(self):\n",
    "        return len(self.data)\n",
    "\n",
    "    def __getitem__(self, idx):\n",
    "        state, next_state, action, reward, done, truncated, info = self.data[idx]\n",
    "        action_tensor = torch.zeros(4, dtype = torch.float32)\n",
    "        action_tensor[action] = 1\n",
    "        return (torch.cat([\n",
    "            torch.tensor(state, dtype = torch.float32), \n",
    "            action_tensor\n",
    "        ]), torch.tensor(next_state, dtype = torch.float32))"
   ]
  },
  {
   "cell_type": "code",
   "execution_count": 7,
   "metadata": {},
   "outputs": [
    {
     "name": "stdout",
     "output_type": "stream",
     "text": [
      "6634 1659\n",
      "(tensor([ 0.3351,  0.8435,  0.9957, -0.8005, -0.2932, -0.1976,  0.0000,  0.0000,\n",
      "         0.0000,  0.0000,  1.0000,  0.0000]), tensor([ 0.3452,  0.8264,  1.0246, -0.7616, -0.3031, -0.1983,  0.0000,  0.0000]))\n"
     ]
    }
   ],
   "source": [
    "train_data, test_data = train_test_split(data, test_size=0.2, random_state = SEED)\n",
    "print(len(train_data), len(test_data))\n",
    "train_loader = DataLoader(GymEnvDataset(train_data), batch_size=32, shuffle=True)\n",
    "test_loader = DataLoader(GymEnvDataset(test_data), batch_size=32, shuffle=False)\n",
    "\n",
    "print(train_loader.dataset[0])"
   ]
  },
  {
   "cell_type": "code",
   "execution_count": 8,
   "metadata": {},
   "outputs": [],
   "source": [
    "class LunarLanderWorldModel(nn.Module):\n",
    "    def __init__(self):\n",
    "        super(LunarLanderWorldModel, self).__init__()\n",
    "        self.network = nn.Sequential(\n",
    "            nn.Linear(8 + 4, 64),\n",
    "            nn.ReLU(),\n",
    "            nn.Linear(64, 64),\n",
    "            nn.ReLU(),\n",
    "            nn.Linear(64, 8)\n",
    "        )\n",
    "\n",
    "    def forward(self, x):\n",
    "        return self.network(x)"
   ]
  },
  {
   "cell_type": "code",
   "execution_count": 9,
   "metadata": {},
   "outputs": [
    {
     "name": "stderr",
     "output_type": "stream",
     "text": [
      "Epoch 10/10 Train Loss: 0.019157731681424102 Test Loss: 0.014171516032477554: 100%|██████████| 10/10 [00:13<00:00,  1.33s/it]\n"
     ]
    }
   ],
   "source": [
    "EPOCHS = 10\n",
    "EXPERIMENT = 1\n",
    "\n",
    "model = LunarLanderWorldModel()\n",
    "optimizer = optim.Adam(model.parameters(), lr=1e-3)\n",
    "criterion = nn.MSELoss()\n",
    "\n",
    "train_losses = []\n",
    "test_losses = []\n",
    "\n",
    "bar = tqdm(range(EPOCHS))\n",
    "\n",
    "os.makedirs(\"lunar_lander_world_model\", exist_ok=True)\n",
    "\n",
    "for epoch in bar:\n",
    "    losses = []\n",
    "    for x, y in train_loader:\n",
    "        pred = model(x)\n",
    "        loss = criterion(pred, y)\n",
    "        optimizer.zero_grad()\n",
    "        loss.backward()\n",
    "        optimizer.step()\n",
    "        losses.append(loss.item())\n",
    "    train_losses.append(sum(losses) / len(losses))\n",
    "\n",
    "    losses = []\n",
    "    for x, y in test_loader:\n",
    "        with torch.no_grad():\n",
    "            pred = model(x)\n",
    "            loss = criterion(pred, y).item()\n",
    "            losses.append(loss)\n",
    "    test_losses.append(sum(losses) / len(losses))\n",
    "    if epoch > 0 and test_losses[-1] < min(test_losses[:-1]):\n",
    "        torch.save(model.state_dict(), os.path.join(\"lunar_lander_world_model\", f\"best_model_{EXPERIMENT}.pth\"))\n",
    "\n",
    "    bar.set_description(f\"Epoch {epoch + 1}/{EPOCHS} Train Loss: {train_losses[-1]} Test Loss: {test_losses[-1]}\")"
   ]
  },
  {
   "cell_type": "code",
   "execution_count": 10,
   "metadata": {},
   "outputs": [
    {
     "data": {
      "image/png": "[encoded data removed]",
      "text/plain": [
       "<Figure size 640x480 with 1 Axes>"
      ]
     },
     "metadata": {},
     "output_type": "display_data"
    }
   ],
   "source": [
    "plt.plot(train_losses, label=\"Train Loss\")\n",
    "plt.plot(test_losses, label=\"Test Loss\")\n",
    "plt.legend()\n",
    "plt.title(\"Lunar Lander World Model Training\")\n",
    "plt.xlabel(\"Epoch\")\n",
    "plt.ylabel(\"Loss\")\n",
    "plt.show()"
   ]
  },
  {
   "cell_type": "markdown",
   "metadata": {},
   "source": [
    "# Visualize Baseline\n"
   ]
  },
  {
   "cell_type": "code",
   "execution_count": 22,
   "metadata": {},
   "outputs": [],
   "source": [
    "vec_env = ppo_model.get_env()\n",
    "obs = vec_env.reset()\n",
    "\n",
    "frames = []\n",
    "\n",
    "for i in range(100):\n",
    "    action, _state = ppo_model.predict(obs, deterministic=True)\n",
    "    obs, reward, done, info = vec_env.step(action)\n",
    "    frame = vec_env.render()\n",
    "    frames.append(frame)\n",
    "\n",
    "height, width, _ = frames[0].shape\n",
    "fourcc = cv2.VideoWriter_fourcc(*'MJPG')\n",
    "video = cv2.VideoWriter('lunar_lander_ppo.avi', fourcc, 20.0, (width, height))\n",
    "\n",
    "for frame in frames:\n",
    "    frame = np.array(frame, dtype = np.uint8)\n",
    "    frame = cv2.cvtColor(frame, cv2.COLOR_RGB2BGR)\n",
    "    video.write(frame)\n",
    "\n",
    "video.release()\n"
   ]
  }
 ],
 "metadata": {
  "kernelspec": {
   "display_name": "dream-reflect-code",
   "language": "python",
   "name": "python3"
  },
  "language_info": {
   "codemirror_mode": {
    "name": "ipython",
    "version": 3
   },
   "file_extension": ".py",
   "mimetype": "text/x-python",
   "name": "python",
   "nbconvert_exporter": "python",
   "pygments_lexer": "ipython3",
   "version": "3.12.9"
  }
 },
 "nbformat": 4,
 "nbformat_minor": 2
}
